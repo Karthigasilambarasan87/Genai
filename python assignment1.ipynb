{
 "cells": [
  {
   "cell_type": "markdown",
   "id": "40ab0dc0-657c-4082-ac88-cddfe2ddcbe7",
   "metadata": {},
   "source": [
    "PYTHON ASSIGNMENT 1 - GRADE CALCULATOR"
   ]
  },
  {
   "cell_type": "code",
   "execution_count": 9,
   "id": "3d8583b1-4da4-4d9d-8401-9c011c9afddb",
   "metadata": {},
   "outputs": [
    {
     "name": "stdin",
     "output_type": "stream",
     "text": [
      "Enter number of subjects 2\n",
      "\n",
      "Enter subject 1 name: math\n",
      "Enter score for math (out of 100): 75\n",
      "\n",
      "Enter subject 2 name: 67\n",
      "Enter score for 67 (out of 100): 67\n"
     ]
    },
    {
     "name": "stdout",
     "output_type": "stream",
     "text": [
      "\n",
      "Total marks: 142\n",
      "Average Score: 71.0\n",
      "Grade: C\n",
      "Eligible for Honors: NO\n"
     ]
    }
   ],
   "source": [
    "a=int(input(\"Enter number of subjects\")) \n",
    "total=0\n",
    "for i in range(a): \n",
    "    s=input(f\"\\nEnter subject {i+1} name:\")\n",
    "    m=int(input(f\"Enter score for {s} (out of 100):\")) \n",
    "    total=total+m\n",
    "\n",
    "average=total/a \n",
    "print(\"\\nTotal marks:\",total)\n",
    "print(\"Average Score:\",average)\n",
    "\n",
    "if average >= 90: \n",
    "    print(\"Grade: A\") \n",
    "    print(\"Eligible for Honors: YES\") \n",
    "\n",
    "elif average in range(80,90): \n",
    "    print(\"Grade: B\") \n",
    "    print(\"Eligible for Honors: NO\") \n",
    "elif average in range(70,80): \n",
    "    print(\"Grade: C\")\n",
    "    print(\"Eligible for Honors: NO\")\n",
    "elif average in range(60,70): \n",
    "    print(\"Grade: D\")\n",
    "    print(\"Eligible for Honors: NO\")\n",
    "else: \n",
    "    print(\"Grade: F\") \n",
    "    print(\"Eligible for Honors: NO\")"
   ]
  },
  {
   "cell_type": "markdown",
   "id": "959291bd-3cf2-48dc-becd-9f02101ec939",
   "metadata": {},
   "source": [
    "\n",
    "\n",
    "PYTHON ASSIGNMENT-2 WORD FREQUENCY"
   ]
  },
  {
   "cell_type": "code",
   "execution_count": 43,
   "id": "f15399fa-7b53-4054-915b-df5ca6805dea",
   "metadata": {},
   "outputs": [
    {
     "name": "stdin",
     "output_type": "stream",
     "text": [
      "Enter a sentence Hi I like toy. I like icecream\n"
     ]
    },
    {
     "name": "stdout",
     "output_type": "stream",
     "text": [
      "The sentence is:\n",
      "hi i like toy. i like icecream\n",
      "hi i like toy i like icecream\n",
      "['hi', 'i', 'like', 'toy', 'i', 'like', 'icecream']\n",
      "\n",
      "word count: {'hi': 1, 'i': 2, 'like': 2, 'toy': 1, 'icecream': 1}\n"
     ]
    }
   ],
   "source": [
    "import string\n",
    "string.punctuation\n",
    "exclude=string.punctuation\n",
    "my_str=input(\"Enter a sentence\")\n",
    "print(\"The sentence is:\")\n",
    "# convert into lower case\n",
    "my_str1=my_str.lower()\n",
    "print(my_str1)\n",
    "no_punct=\"\"\n",
    "#Remove Punctuation\n",
    "for char in my_str1:\n",
    "    if  char not in exclude:\n",
    "        no_punct=no_punct+char\n",
    "print(no_punct)\n",
    "#Tokenziation\n",
    "token=no_punct.split()\n",
    "print(token)\n",
    "\n",
    "#word frequency\n",
    "word_count={}\n",
    "for word in token:\n",
    "    if word in word_count:\n",
    "        word_count[word] +=1\n",
    "    else:\n",
    "        word_count[word]=1\n",
    "\n",
    "print(\"word count:\",word_count)\n",
    "\n",
    "\n",
    "\n",
    "\n",
    "\n"
   ]
  },
  {
   "cell_type": "code",
   "execution_count": null,
   "id": "3304a976-6b8b-4700-bdc9-d81d269c2fcd",
   "metadata": {},
   "outputs": [],
   "source": []
  }
 ],
 "metadata": {
  "kernelspec": {
   "display_name": "Python 3 (ipykernel)",
   "language": "python",
   "name": "python3"
  },
  "language_info": {
   "codemirror_mode": {
    "name": "ipython",
    "version": 3
   },
   "file_extension": ".py",
   "mimetype": "text/x-python",
   "name": "python",
   "nbconvert_exporter": "python",
   "pygments_lexer": "ipython3",
   "version": "3.12.4"
  }
 },
 "nbformat": 4,
 "nbformat_minor": 5
}
